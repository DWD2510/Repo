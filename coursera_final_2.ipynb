{
 "cells": [
  {
   "cell_type": "markdown",
   "id": "e4d547dc-ecb1-4025-858e-ff503be7c2a0",
   "metadata": {},
   "source": [
    "# Final Project: Introduction to Data Science\n"
   ]
  },
  {
   "cell_type": "markdown",
   "id": "46b4c930-6610-4bb9-8851-24371f956a8b",
   "metadata": {},
   "source": [
    "## Introduction\n",
    "Data Science combines statistics, programming, and domain knowledge to extract meaningful insights from data.\n"
   ]
  },
  {
   "cell_type": "markdown",
   "id": "bb04f58d-9c23-44fe-8902-8a9b30abd99d",
   "metadata": {},
   "source": [
    "## Programming Languages Used in Data Science\n",
    "- Python  \n",
    "- R  \n",
    "- SQL  \n",
    "- Julia  \n",
    "- Scala\n"
   ]
  },
  {
   "cell_type": "markdown",
   "id": "c8013a57-16c9-461d-ae64-678a1dc2dde4",
   "metadata": {},
   "source": [
    "## Popular Data Science Libraries\n",
    "- Pandas  \n",
    "- NumPy  \n",
    "- Matplotlib  \n",
    "- Seaborn  \n",
    "- Scikit-learn  \n",
    "- TensorFlow\n"
   ]
  },
  {
   "cell_type": "markdown",
   "id": "35dd1c85-f2f3-47f0-bbdc-68ac732cd50b",
   "metadata": {},
   "source": [
    "## Data Science Tools\n",
    "\n",
    "| Tool            | Description                          |\n",
    "|------------------|--------------------------------------|\n",
    "| Jupyter Notebook | Write code and documentation together |\n",
    "| RStudio          | Analyze data using R                 |\n",
    "| VS Code          | General-purpose code editor          |\n"
   ]
  },
  {
   "cell_type": "markdown",
   "id": "9e2bd5b5-7fd4-4cb4-871e-b9e4a30f55e4",
   "metadata": {},
   "source": [
    "## Example of an Arithmetic Expression\n",
    "A simple arithmetic expression: `3 + 5 * (2 - 1)`\n"
   ]
  },
  {
   "cell_type": "code",
   "execution_count": 1,
   "id": "324f77b3-051b-44b8-a9c2-f7fb54f8bae5",
   "metadata": {},
   "outputs": [
    {
     "name": "stdout",
     "output_type": "stream",
     "text": [
      "Multiplication: 15\n",
      "Addition: 8\n"
     ]
    }
   ],
   "source": [
    "a = 5\n",
    "b = 3\n",
    "multiplication = a * b\n",
    "addition = a + b\n",
    "print(\"Multiplication:\", multiplication)\n",
    "print(\"Addition:\", addition)\n"
   ]
  },
  {
   "cell_type": "code",
   "execution_count": 2,
   "id": "a656d775-ed16-4931-9e0c-8f27a7badfed",
   "metadata": {},
   "outputs": [
    {
     "name": "stdout",
     "output_type": "stream",
     "text": [
      "150 minutes = 2.50 hours\n"
     ]
    }
   ],
   "source": [
    "minutes = 150\n",
    "hours = minutes / 60\n",
    "print(f\"{minutes} minutes = {hours:.2f} hours\")\n"
   ]
  },
  {
   "cell_type": "markdown",
   "id": "009402a5-f3ae-4b50-820b-832738256d53",
   "metadata": {},
   "source": [
    "## My Goals\n",
    "- Understand the basics of Data Science  \n",
    "- Learn how to use Python and libraries for data analysis  \n",
    "- Create visualizations to explore data\n"
   ]
  },
  {
   "cell_type": "markdown",
   "id": "420dd187-1ca3-4717-b906-1e26d7a81e35",
   "metadata": {},
   "source": [
    "### Author: Đỗ Quý Đức\n"
   ]
  },
  {
   "cell_type": "code",
   "execution_count": null,
   "id": "e7676cf3-831d-43b4-b437-b500292108c4",
   "metadata": {},
   "outputs": [],
   "source": []
  }
 ],
 "metadata": {
  "kernelspec": {
   "display_name": "Python 3 (ipykernel)",
   "language": "python",
   "name": "python3"
  },
  "language_info": {
   "codemirror_mode": {
    "name": "ipython",
    "version": 3
   },
   "file_extension": ".py",
   "mimetype": "text/x-python",
   "name": "python",
   "nbconvert_exporter": "python",
   "pygments_lexer": "ipython3",
   "version": "3.10.9"
  }
 },
 "nbformat": 4,
 "nbformat_minor": 5
}
